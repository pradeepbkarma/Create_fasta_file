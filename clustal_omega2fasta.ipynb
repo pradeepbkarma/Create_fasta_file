{
 "cells": [
  {
   "cell_type": "code",
   "execution_count": 1,
   "metadata": {},
   "outputs": [],
   "source": [
    "import pandas as pd"
   ]
  },
  {
   "cell_type": "code",
   "execution_count": 5,
   "metadata": {},
   "outputs": [],
   "source": [
    "#this code creates the clean fragment removing unwanted spaces and characters \n",
    "with open('./FabB_all_MSA.txt', 'r') as infile, open('FabB_clean_fragments.fa', 'w') as outfile:\n",
    "    lines = infile.readlines()\n",
    "    filtered_line = [line for line in lines if not set(line.strip()).issubset(set(':.* '))]\n",
    "    for line in filtered_line:\n",
    "        if line.strip(): #skip empty line\n",
    "            parts = line.split(maxsplit=1)\n",
    "            if len(parts) == 2:\n",
    "                protein_id, sequence_with_number = parts\n",
    "                sequence = ''.join(filter(lambda x: not x.isdigit(), sequence_with_number))\n",
    "                outfile.write(f'>{protein_id}\\n{sequence.strip()}\\n')\n"
   ]
  },
  {
   "cell_type": "code",
   "execution_count": null,
   "metadata": {},
   "outputs": [],
   "source": [
    "with open('./FabB_clean_fragments.fa', 'r') as infile:\n",
    "    for line in infile:\n",
    "        line = line.strip()\n",
    "        print(line)"
   ]
  },
  {
   "cell_type": "code",
   "execution_count": 7,
   "metadata": {},
   "outputs": [],
   "source": [
    "#now combine the fragments from MSA to create a complete fasta file \n",
    "from collections import defaultdict\n",
    "\n",
    "def get_fasta (input_fasta, output_fasta): #use output fasta from above code as input \n",
    "    sequences = defaultdict(str)\n",
    "    current_header = \"\"\n",
    "\n",
    "    with open(input_fasta, 'r')as infile:\n",
    "        for line in infile:\n",
    "            line = line.strip()\n",
    "            if line.startswith('>'):\n",
    "                current_header = line\n",
    "            else:\n",
    "                sequences[current_header] += line\n",
    "    \n",
    "    with open(output_fasta, 'w')as outfile:\n",
    "        for header, sequence in sequences.items():\n",
    "            outfile.write(header + '\\n' + sequence + '\\n')\n",
    "\n",
    "input_fasta = './FabB_clean_fragments.fa' #output of first chunk of code\n",
    "output_fasta = 'FabB_1line_MSA.fa' #desired name for your fasta file\n",
    "get_fasta(input_fasta, output_fasta) #call the function with required files as arguments\n",
    "\n",
    "\n"
   ]
  }
 ],
 "metadata": {
  "kernelspec": {
   "display_name": "Python 3",
   "language": "python",
   "name": "python3"
  },
  "language_info": {
   "codemirror_mode": {
    "name": "ipython",
    "version": 3
   },
   "file_extension": ".py",
   "mimetype": "text/x-python",
   "name": "python",
   "nbconvert_exporter": "python",
   "pygments_lexer": "ipython3",
   "version": "3.11.3"
  }
 },
 "nbformat": 4,
 "nbformat_minor": 2
}
